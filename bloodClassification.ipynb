{
 "cells": [
  {
   "cell_type": "code",
   "execution_count": 1,
   "metadata": {},
   "outputs": [
    {
     "name": "stderr",
     "output_type": "stream",
     "text": [
      "Using TensorFlow backend.\n"
     ]
    }
   ],
   "source": [
    "#Importing necessary packages\n",
    "import os\n",
    "import numpy as np\n",
    "import cv2\n",
    "from keras.models import Sequential\n",
    "from keras.layers import Dense, Conv2D, Flatten, Activation, MaxPool2D, Input, Softmax, BatchNormalization\n",
    "from keras.preprocessing.image import load_img, img_to_array\n",
    "from keras .utils.np_utils import to_categorical\n",
    "import pandas as pd"
   ]
  },
  {
   "cell_type": "code",
   "execution_count": 2,
   "metadata": {},
   "outputs": [],
   "source": [
    "#function to load data from the location\n",
    "def loadData():\n",
    "    X_train = list()\n",
    "    y_train = list()\n",
    "    X_test = list()\n",
    "    y_test = list()\n",
    "    \n",
    "    data_folder = 'Images/'\n",
    "    \n",
    "    # print(os.listdir(data_folder))\n",
    "    training_folder = 'TRAIN/'\n",
    "    testing_folder = 'TEST/'\n",
    "    \n",
    "    # Generating the training data\n",
    "    for folder in os.listdir(data_folder+training_folder):\n",
    "        count = 0\n",
    "        if folder == 'EOSINOPHIL':\n",
    "            label = 0\n",
    "        elif folder == 'LYMPHOCYTE':\n",
    "            label = 1\n",
    "        elif folder == 'MONOCYTE':\n",
    "            label = 2\n",
    "        elif folder == 'NEUTROPHIL':\n",
    "            label = 3\n",
    "        for image_name in os.listdir(data_folder+training_folder+folder):\n",
    "            image = cv2.imread(data_folder+training_folder+folder+\"/\"+image_name)\n",
    "#             new = img_to_array(load_image())\n",
    "            if image is not None:\n",
    "                new = cv2.resize(image, (80,60))\n",
    "                new = np.asarray(new)\n",
    "                X_train.append(new)\n",
    "                y_train.append(label)\n",
    "                \n",
    "    # Generating the testing set\n",
    "    for folder in os.listdir(data_folder+testing_folder):\n",
    "        count = 0\n",
    "        if folder == 'EOSINOPHIL':\n",
    "            label = 0\n",
    "        elif folder == 'LYMPHOCYTE':\n",
    "            label = 1\n",
    "        elif folder == 'MONOCYTE':\n",
    "            label = 2\n",
    "        elif folder == 'NEUTROPHIL':\n",
    "            label = 3\n",
    "        for image_name in os.listdir(data_folder+testing_folder+folder):\n",
    "            image = cv2.imread(data_folder+testing_folder+folder+\"/\"+image_name)\n",
    "#             new = img_to_array(load_image())\n",
    "            if image is not None:\n",
    "                new = cv2.resize(image, (80,60))\n",
    "                new = np.asarray(new)\n",
    "                X_test.append(new)\n",
    "                y_test.append(label)\n",
    "    return np.asarray(X_train), np.asarray(y_train), np.asarray(X_train), np.asarray(y_train)\n",
    "#             print(type(new))\n",
    "#                 print(new.shape)\n",
    "#             count = count + 1\n",
    "#         print(\"{} -> {}\".format(folder, count))"
   ]
  },
  {
   "cell_type": "code",
   "execution_count": 8,
   "metadata": {},
   "outputs": [],
   "source": [
    "def Model():\n",
    "    model = Sequential()\n",
    "    model.add(Conv2D(32, (7,7), padding='same', activation='relu', input_shape=(60,80,3)))\n",
    "    model.add(MaxPool2D(pool_size=(2,2)))\n",
    "              \n",
    "    model.add(Conv2D(32, (7,7), padding='valid', activation='relu'))\n",
    "    model.add(MaxPool2D(pool_size=(2,2)))\n",
    "              \n",
    "    model.add(Conv2D(64, (5,5), padding='same', activation='relu'))\n",
    "    model.add(Conv2D(64, (5,5), padding='valid', activation='relu'))\n",
    "    model.add(MaxPool2D(pool_size=(2,2)))\n",
    "              \n",
    "    model.add(Conv2D(64, (3,3), padding='same', activation='relu'))\n",
    "    model.add(Conv2D(64, (3,3), padding='valid', activation='relu'))\n",
    "    model.add(MaxPool2D(pool_size=(2,2)))\n",
    "              \n",
    "    model.add(BatchNormalization())\n",
    "    model.add(Flatten())\n",
    "    model.add(Dense(512, activation='relu'))\n",
    "    model.add(Dense(4, activation='softmax'))\n",
    "    model.compile(loss='categorical_crossentropy', optimizer='adam', metrics=['accuracy'])\n",
    "#     print(model.summary)\n",
    "    return model"
   ]
  },
  {
   "cell_type": "code",
   "execution_count": null,
   "metadata": {},
   "outputs": [
    {
     "name": "stdout",
     "output_type": "stream",
     "text": [
      "Data Loaded...........\n"
     ]
    }
   ],
   "source": [
    "if __name__ == '__main__':\n",
    "    X_train, y_train, X_test, y_test = loadData()\n",
    "    print(\"Data Loaded...........\")\n",
    "    y_train = to_categorical(y_train, num_classes=4)\n",
    "    y_test = to_categorical(y_test, num_classes=4)\n",
    "#     print(X_train.shape)\n",
    "    model = Model()\n",
    "    model.fit(X_train, y_train, epochs=1, batch_size=64, validation_data=(X_test, y_test), verbose=0)\n",
    "    _, acc = model.evaluate(X_test, y_test, verbose=0)\n",
    "    print(accuracy)"
   ]
  },
  {
   "cell_type": "code",
   "execution_count": null,
   "metadata": {},
   "outputs": [],
   "source": []
  }
 ],
 "metadata": {
  "kernelspec": {
   "display_name": "Python 3",
   "language": "python",
   "name": "python3"
  },
  "language_info": {
   "codemirror_mode": {
    "name": "ipython",
    "version": 3
   },
   "file_extension": ".py",
   "mimetype": "text/x-python",
   "name": "python",
   "nbconvert_exporter": "python",
   "pygments_lexer": "ipython3",
   "version": "3.7.7"
  }
 },
 "nbformat": 4,
 "nbformat_minor": 4
}
